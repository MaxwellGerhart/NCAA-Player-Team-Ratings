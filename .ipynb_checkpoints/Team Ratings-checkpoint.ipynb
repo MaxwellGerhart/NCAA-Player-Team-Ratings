{
 "cells": [
  {
   "cell_type": "code",
   "execution_count": 15,
   "id": "049a01b5-de3f-40bf-974e-12d3c04a9042",
   "metadata": {},
   "outputs": [],
   "source": [
    "import pandas as pd\n",
    "import seaborn as sns\n",
    "import matplotlib.pyplot as plt\n",
    "import numpy as np"
   ]
  },
  {
   "cell_type": "code",
   "execution_count": 17,
   "id": "5c270b64-983c-4ba8-af79-2e573fdc3c8e",
   "metadata": {},
   "outputs": [],
   "source": [
    "home_df = pd.read_csv('home_df.csv')\n",
    "away_df = pd.read_csv('away_df.csv')"
   ]
  },
  {
   "cell_type": "code",
   "execution_count": 46,
   "id": "821961ec-2e0e-42df-9d38-0c491380af71",
   "metadata": {},
   "outputs": [],
   "source": [
    "# Merge home_df and away_df on 'Team' and 'Conference'\n",
    "overall_df = pd.merge(home_df, away_df, on=['Team', 'Conference'], how='inner')\n",
    "\n",
    "# Metrics to combine\n",
    "metrics = ['MP', 'GF', 'GA', 'ATT', 'DEF']\n",
    "\n",
    "# Combine _x and _y metrics\n",
    "for metric in metrics:\n",
    "    overall_df[metric] = overall_df[f'{metric}_x'] + overall_df[f'{metric}_y']\n",
    "\n",
    "# Drop original _x and _y columns\n",
    "columns_to_drop = [f'{metric}_x' for metric in metrics] + [f'{metric}_y' for metric in metrics]\n",
    "overall_df = overall_df.drop(columns=columns_to_drop)\n",
    "\n",
    "# Average ATT and DEF metrics\n",
    "overall_df['ATT'] = overall_df['ATT'] / 2\n",
    "overall_df['DEF'] = overall_df['DEF'] / 2\n",
    "\n",
    "# Create 'STR' column (normalized strength by conference)\n",
    "overall_df['STR'] = (overall_df['ATT']*0.6 + (1 / overall_df['DEF'])*0.4)"
   ]
  },
  {
   "cell_type": "code",
   "execution_count": 48,
   "id": "ebf3ab7f-3130-4bb7-9710-933d742041ef",
   "metadata": {},
   "outputs": [],
   "source": [
    "overall_df['MAX'] = (overall_df['STR'] - overall_df['STR'].min()) / (overall_df['STR'].max() - overall_df['STR'].min())*100"
   ]
  },
  {
   "cell_type": "code",
   "execution_count": 58,
   "id": "05b4b34a-7dab-4be5-8045-0c3824773b23",
   "metadata": {},
   "outputs": [],
   "source": [
    "overall_df = overall_df.sort_values(by='MAX', ascending=False).head(75)"
   ]
  },
  {
   "cell_type": "code",
   "execution_count": 60,
   "id": "885a6e0f-a041-4317-bfaf-9052a6e2ec4d",
   "metadata": {},
   "outputs": [],
   "source": [
    "overall_df['Rank'] = overall_df.index + 1\n",
    "overall_df['MAX'] = overall_df['MAX'].astype(int)"
   ]
  },
  {
   "cell_type": "code",
   "execution_count": 52,
   "id": "17058797-2685-4282-bd70-985aa241c076",
   "metadata": {},
   "outputs": [],
   "source": [
    "overall_df.to_csv('ncaa_ratings.csv')"
   ]
  }
 ],
 "metadata": {
  "kernelspec": {
   "display_name": "Python 3 (ipykernel)",
   "language": "python",
   "name": "python3"
  },
  "language_info": {
   "codemirror_mode": {
    "name": "ipython",
    "version": 3
   },
   "file_extension": ".py",
   "mimetype": "text/x-python",
   "name": "python",
   "nbconvert_exporter": "python",
   "pygments_lexer": "ipython3",
   "version": "3.12.4"
  }
 },
 "nbformat": 4,
 "nbformat_minor": 5
}
