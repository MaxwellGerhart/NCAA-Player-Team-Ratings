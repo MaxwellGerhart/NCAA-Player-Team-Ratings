{
 "cells": [
  {
   "cell_type": "code",
   "execution_count": 331,
   "id": "ab4c9af5-c435-4d99-8d89-bc253775ffed",
   "metadata": {},
   "outputs": [],
   "source": [
    "import warnings\n",
    "warnings.filterwarnings('ignore')\n",
    "import pandas as pd\n",
    "import numpy as np\n",
    "import json\n",
    "import os\n",
    "import requests\n",
    "from bs4 import BeautifulSoup\n",
    "import re\n",
    "import unidecode"
   ]
  },
  {
   "cell_type": "code",
   "execution_count": 333,
   "id": "d77119e5-149c-48a5-877d-0b5cfe6159db",
   "metadata": {},
   "outputs": [],
   "source": [
    "pd.set_option('display.max_rows', None)"
   ]
  },
  {
   "cell_type": "code",
   "execution_count": 335,
   "id": "8215e41c-d935-4afb-8712-8b7f8084c3d4",
   "metadata": {},
   "outputs": [],
   "source": [
    "url = \"https://data.ncaa.com/casablanca/game/6348229/pbp.json\""
   ]
  },
  {
   "cell_type": "code",
   "execution_count": 337,
   "id": "44513b75-8e58-499f-af64-94b66e804c31",
   "metadata": {},
   "outputs": [],
   "source": [
    "response = requests.get(url)"
   ]
  },
  {
   "cell_type": "code",
   "execution_count": 339,
   "id": "06ec0656-914b-4c22-b633-e65e8f9d46c1",
   "metadata": {},
   "outputs": [],
   "source": [
    "data = response.json()"
   ]
  },
  {
   "cell_type": "code",
   "execution_count": 341,
   "id": "c78468ad-5756-4deb-bfae-982916214f3f",
   "metadata": {},
   "outputs": [],
   "source": [
    "home = data['meta']['teams'][0]['shortName']\n",
    "away = data['meta']['teams'][1]['shortName']"
   ]
  },
  {
   "cell_type": "code",
   "execution_count": 343,
   "id": "9bee8d4a-345d-4b3f-9e2b-0275ec784a33",
   "metadata": {},
   "outputs": [],
   "source": [
    "events = []\n",
    "score = '0-0'\n",
    "for period in data['periods']:\n",
    "    for play in period['playStats']:\n",
    "        if play['score'] == '':\n",
    "            score = score\n",
    "        else:\n",
    "            score = play['score']\n",
    "        time = play['time']\n",
    "        if play['visitorText']:\n",
    "            team = 1\n",
    "            event = play['visitorText']\n",
    "        else:\n",
    "            team = 0\n",
    "            event = play['homeText']\n",
    "\n",
    "        event_details = {\n",
    "            'Score': score,\n",
    "            'Time': time,\n",
    "            'Event': event,\n",
    "            'Team': team\n",
    "        }\n",
    "        events.append(event_details)"
   ]
  },
  {
   "cell_type": "code",
   "execution_count": 345,
   "id": "1ce09d89-f1cd-4b8c-8fdc-7b7fa6667e80",
   "metadata": {},
   "outputs": [],
   "source": [
    "df = pd.DataFrame(events)"
   ]
  },
  {
   "cell_type": "code",
   "execution_count": 347,
   "id": "f6421d01-3d38-4c0c-a816-2f58916c282e",
   "metadata": {},
   "outputs": [],
   "source": [
    "def clean_name(name):\n",
    "    if not name:  # Check for None or empty string\n",
    "        return None\n",
    "    if ', ' in name:\n",
    "        name = ' '.join(name.split(', ')[::-1])  # Reverse names if in \"Last, First\" format\n",
    "    name = unidecode.unidecode(name)  # Remove accents and special characters\n",
    "    name = name.strip().title()  # Strip extra spaces and standardize capitalization\n",
    "    return name"
   ]
  },
  {
   "cell_type": "code",
   "execution_count": 351,
   "id": "833201c2-dc1f-4125-a3f7-acaf0cf52e7e",
   "metadata": {
    "scrolled": true
   },
   "outputs": [],
   "source": [
    "# Define a function to categorize events\n",
    "def categorize_event(event):\n",
    "    if 'Goal by' in event:\n",
    "        return 'Goal'\n",
    "    elif 'Shot by' in event:\n",
    "        return 'Shot'\n",
    "    elif 'Foul' in event:\n",
    "        return 'Foul'\n",
    "    elif 'Corner kick' in event:\n",
    "        return 'Corner Kick'\n",
    "    elif 'Offside against' in event:\n",
    "        return 'Offside'\n",
    "    else:\n",
    "        return 'Other'\n",
    "        \n",
    "def extract_player(event):\n",
    "    # Patterns to capture both \"Lastname, Firstname\" and \"Firstname Lastname\"\n",
    "    pattern = r'\\b[A-Z][a-z]+,?\\s*[A-Z][a-z]+'\n",
    "    matches = re.findall(pattern, event)\n",
    "    return matches[0] if matches else None\n",
    "\n",
    "    \n",
    "df['Name'] = df['Event'].apply(extract_player)  # Rename Player to Name\n",
    "df['Name'] = df['Name'].apply(clean_name)\n",
    "df['Event_Type'] = df['Event'].apply(categorize_event)\n",
    "df['Team'] = df['Team'].apply(lambda x: home if x == 0 else away)\n",
    "df['IsFoul'] = df['Event'].str.contains('Foul', case=False)\n",
    "\n",
    "foul_df = df[df['IsFoul']]\n",
    "\n",
    "foul_summary = foul_df.groupby(['Name', 'Team']).size().reset_index(name='Fouls')\n"
   ]
  },
  {
   "cell_type": "code",
   "execution_count": 353,
   "id": "67d05bf7-23ec-4735-a5e4-21191851bbe1",
   "metadata": {},
   "outputs": [
    {
     "data": {
      "text/html": [
       "<div>\n",
       "<style scoped>\n",
       "    .dataframe tbody tr th:only-of-type {\n",
       "        vertical-align: middle;\n",
       "    }\n",
       "\n",
       "    .dataframe tbody tr th {\n",
       "        vertical-align: top;\n",
       "    }\n",
       "\n",
       "    .dataframe thead th {\n",
       "        text-align: right;\n",
       "    }\n",
       "</style>\n",
       "<table border=\"1\" class=\"dataframe\">\n",
       "  <thead>\n",
       "    <tr style=\"text-align: right;\">\n",
       "      <th></th>\n",
       "      <th>Name</th>\n",
       "      <th>Team</th>\n",
       "      <th>Fouls</th>\n",
       "    </tr>\n",
       "  </thead>\n",
       "  <tbody>\n",
       "    <tr>\n",
       "      <th>0</th>\n",
       "      <td>Aleksandar Vukovic</td>\n",
       "      <td>Vermont</td>\n",
       "      <td>1</td>\n",
       "    </tr>\n",
       "    <tr>\n",
       "      <th>1</th>\n",
       "      <td>Alex Bamford</td>\n",
       "      <td>Vermont</td>\n",
       "      <td>3</td>\n",
       "    </tr>\n",
       "    <tr>\n",
       "      <th>2</th>\n",
       "      <td>David Ismail</td>\n",
       "      <td>Vermont</td>\n",
       "      <td>1</td>\n",
       "    </tr>\n",
       "    <tr>\n",
       "      <th>3</th>\n",
       "      <td>Haruhi Taneda</td>\n",
       "      <td>Vermont</td>\n",
       "      <td>1</td>\n",
       "    </tr>\n",
       "    <tr>\n",
       "      <th>4</th>\n",
       "      <td>Lineker Santos</td>\n",
       "      <td>Vermont</td>\n",
       "      <td>2</td>\n",
       "    </tr>\n",
       "    <tr>\n",
       "      <th>5</th>\n",
       "      <td>Rai Pinto</td>\n",
       "      <td>Vermont</td>\n",
       "      <td>1</td>\n",
       "    </tr>\n",
       "    <tr>\n",
       "      <th>6</th>\n",
       "      <td>Ryan Holmes</td>\n",
       "      <td>Vermont</td>\n",
       "      <td>1</td>\n",
       "    </tr>\n",
       "    <tr>\n",
       "      <th>7</th>\n",
       "      <td>Schulze Solano</td>\n",
       "      <td>Vermont</td>\n",
       "      <td>1</td>\n",
       "    </tr>\n",
       "    <tr>\n",
       "      <th>8</th>\n",
       "      <td>Sydney Wathuta</td>\n",
       "      <td>Vermont</td>\n",
       "      <td>1</td>\n",
       "    </tr>\n",
       "    <tr>\n",
       "      <th>9</th>\n",
       "      <td>Tarik Pannholzer</td>\n",
       "      <td>Vermont</td>\n",
       "      <td>1</td>\n",
       "    </tr>\n",
       "    <tr>\n",
       "      <th>10</th>\n",
       "      <td>Theo Godard</td>\n",
       "      <td>Vermont</td>\n",
       "      <td>3</td>\n",
       "    </tr>\n",
       "    <tr>\n",
       "      <th>11</th>\n",
       "      <td>Yaniv Bazini</td>\n",
       "      <td>Vermont</td>\n",
       "      <td>3</td>\n",
       "    </tr>\n",
       "    <tr>\n",
       "      <th>12</th>\n",
       "      <td>Zach Barrett</td>\n",
       "      <td>Vermont</td>\n",
       "      <td>1</td>\n",
       "    </tr>\n",
       "  </tbody>\n",
       "</table>\n",
       "</div>"
      ],
      "text/plain": [
       "                  Name     Team  Fouls\n",
       "0   Aleksandar Vukovic  Vermont      1\n",
       "1         Alex Bamford  Vermont      3\n",
       "2         David Ismail  Vermont      1\n",
       "3        Haruhi Taneda  Vermont      1\n",
       "4       Lineker Santos  Vermont      2\n",
       "5            Rai Pinto  Vermont      1\n",
       "6          Ryan Holmes  Vermont      1\n",
       "7       Schulze Solano  Vermont      1\n",
       "8       Sydney Wathuta  Vermont      1\n",
       "9     Tarik Pannholzer  Vermont      1\n",
       "10         Theo Godard  Vermont      3\n",
       "11        Yaniv Bazini  Vermont      3\n",
       "12        Zach Barrett  Vermont      1"
      ]
     },
     "execution_count": 353,
     "metadata": {},
     "output_type": "execute_result"
    }
   ],
   "source": [
    "foul_summary"
   ]
  }
 ],
 "metadata": {
  "kernelspec": {
   "display_name": "Python 3 (ipykernel)",
   "language": "python",
   "name": "python3"
  },
  "language_info": {
   "codemirror_mode": {
    "name": "ipython",
    "version": 3
   },
   "file_extension": ".py",
   "mimetype": "text/x-python",
   "name": "python",
   "nbconvert_exporter": "python",
   "pygments_lexer": "ipython3",
   "version": "3.12.4"
  }
 },
 "nbformat": 4,
 "nbformat_minor": 5
}
